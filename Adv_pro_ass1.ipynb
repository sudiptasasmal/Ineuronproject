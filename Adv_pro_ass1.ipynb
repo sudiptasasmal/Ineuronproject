{
 "cells": [
  {
   "cell_type": "code",
   "execution_count": 1,
   "metadata": {},
   "outputs": [],
   "source": [
    "b = 0\n",
    "\n",
    "\n",
    "\n",
    "def check_score(list_of_list):\n",
    "    global b\n",
    "    for list in list_of_list:\n",
    "        for a in list:\n",
    "            if a == '#':\n",
    "                a=5\n",
    "            elif a == 'O':\n",
    "                a=3\n",
    "            elif a == 'X':\n",
    "                a=1\n",
    "            elif a == '!':\n",
    "                a=1\n",
    "            elif a == '!!':\n",
    "                a=3\n",
    "            elif a== '!!!':\n",
    "                a=5\n",
    "            b = b + a  \n",
    "    if b < 0:\n",
    "        print(0)\n",
    "    else: \n",
    "        print(b)\n",
    "\n",
    "l = [[\"#\",\"!\"],[\"!!\",\"X\"]]\n",
    "check_score(l)"
   ]
  },
  {
   "cell_type": "code",
   "execution_count": 2,
   "metadata": {},
   "outputs": [
    {
     "name": "stdout",
     "output_type": "stream",
     "text": [
      "6\n"
     ]
    }
   ],
   "source": [
    "mul = 1\n",
    "def combinations(l):\n",
    "    global mul\n",
    "    for a in l:\n",
    "        mul = mul * a\n",
    "    print(mul)\n",
    "l = [2,3]\n",
    "combinations(l)\n"
   ]
  },
  {
   "cell_type": "code",
   "execution_count": null,
   "metadata": {},
   "outputs": [],
   "source": [
    "char_to_dots = {'A': '.-', 'B': '-...', 'C': '-.-.', 'D': '-..', 'E': '.', 'F': '..-.',\n",
    "'G': '--.', 'H': '....', 'I': '..', 'J': '.---', 'K': '-.-', 'L': '.-..',\n",
    "'M': '--', 'N': '-.', 'O': '---', 'P': '.--.', 'Q': '--.-', 'R': '.-.',\n",
    "'S': '...', 'T': '-', 'U': '..-', 'V': '...-', 'W': '.--', 'X': '-..-',\n",
    "'Y': '-.--', 'Z': '--..', ' ': ' ', '0': '-----',\n",
    "'1': '.----', '2': '..---', '3': '...--', '4': '....-', '5': '.....',\n",
    "'6': '-....', '7': '--...', '8': '---..', '9': '----.',\n",
    "'&': '.-...', \"\": '.----.', '@': '.--.-.', ')': '-.--.-', '(': '-.--.',\n",
    "':': '---...', ',': '--..--', '=': '-...-', '!': '-.-.--', '.': '.-.-.-',\n",
    "'-': '-....-', '+': '.-.-.', '&quot;': '.-..-.', '?': '..--..', '/': '-..-.'}\n",
    "\n",
    "def encode_morse(str1):\n",
    "    str2 = ''\n",
    "    for i in str1 :\n",
    "        up_i = i.upper()\n",
    "        a = char_to_dots.get(up_i)\n",
    "        str2 = str2 + a\n",
    "    print(str2)\n",
    "str1 = str(input())\n",
    "encode_morse(str1)"
   ]
  },
  {
   "cell_type": "code",
   "execution_count": null,
   "metadata": {},
   "outputs": [],
   "source": [
    "def prime(num):\n",
    "    if num > 1:\n",
    "        for i in range(2, int(num/2)+1):\n",
    "            if (num % i) == 0:\n",
    "                print(\"False\")\n",
    "                break\n",
    "            else:\n",
    "                print(\"True\")\n",
    "\n",
    "    else:\n",
    "        print(\"False\")\n",
    "num = int(input())\n",
    "prime(num)"
   ]
  },
  {
   "cell_type": "code",
   "execution_count": null,
   "metadata": {},
   "outputs": [],
   "source": [
    "l=[]\n",
    "list1 = ['A','B','C','D','E','F','G','H','I','J','K','L','M','N','O','P','Q','R','S','T','U','V','W','X','Y','Z']\n",
    "def bit_to_boolean(string1):\n",
    "    for element in string1 :\n",
    "        letter = element.upper()\n",
    "        pos = list1.index(letter)\n",
    "        if pos >= 1:\n",
    "            if (pos %2) == 0:\n",
    "                x = 'True'\n",
    "                l.append(x)\n",
    "            else:\n",
    "                x = 'False'\n",
    "                l.append(x)\n",
    "        elif pos == 0:\n",
    "                x = 'True'\n",
    "    print(l)\n",
    "string1 = str(input())\n",
    "bit_to_boolean(string1)"
   ]
  },
  {
   "cell_type": "code",
   "execution_count": null,
   "metadata": {},
   "outputs": [],
   "source": [
    "\n",
    "        "
   ]
  },
  {
   "cell_type": "code",
   "execution_count": null,
   "metadata": {},
   "outputs": [],
   "source": [
    "\n",
    "\n"
   ]
  },
  {
   "cell_type": "code",
   "execution_count": null,
   "metadata": {},
   "outputs": [],
   "source": []
  }
 ],
 "metadata": {
  "kernelspec": {
   "display_name": "Python 3",
   "language": "python",
   "name": "python3"
  },
  "language_info": {
   "codemirror_mode": {
    "name": "ipython",
    "version": 3
   },
   "file_extension": ".py",
   "mimetype": "text/x-python",
   "name": "python",
   "nbconvert_exporter": "python",
   "pygments_lexer": "ipython3",
   "version": "3.7.6"
  }
 },
 "nbformat": 4,
 "nbformat_minor": 4
}
