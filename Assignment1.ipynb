{
 "cells": [
  {
   "cell_type": "raw",
   "metadata": {},
   "source": [
    "1. In the below elements which of them are values or an expression? eg:- values can be integer or string and expressions will be mathematical operators.\n",
    "* \n",
    "'hello'\n",
    "-87.8\n",
    "- \n",
    "/ \n",
    "+\t\n",
    "6 \n",
    "\n",
    "\n",
    "Ans: values - -87.8,'hello',6\n",
    "     Expression - *,-,/,+"
   ]
  },
  {
   "cell_type": "raw",
   "metadata": {},
   "source": [
    "2. What is the difference between string and variable?\n",
    "Ans: A variable is the name of the location in primary memory where we can store data. whereas string is a value."
   ]
  },
  {
   "cell_type": "raw",
   "metadata": {},
   "source": [
    "3. Describe three different data types.\n",
    "Text Type:\tstr\n",
    "Numeric Types:\tint, float, complex\n",
    "Sequence Types:\tlist, tuple, range\n",
    "Mapping Type:\tdict\n",
    "Set Types:\tset, frozenset\n",
    "Boolean Type:\tbool\n",
    "Binary Types:\tbytes, bytearray, memoryview"
   ]
  },
  {
   "cell_type": "raw",
   "metadata": {},
   "source": [
    "4. What is an expression made up of? What do all expressions do?\n",
    "An expression is a combination of values, variables, operators, and calls to functions.The interpreter evaluates the expression and displays the result."
   ]
  },
  {
   "cell_type": "raw",
   "metadata": {},
   "source": [
    "5. This assignment statements, like spam = 10. What is the difference between an expression and a statement?\n",
    "Evaluation of an expression always Produces or returns a result value.\n",
    "Execution of a statement may or may not produces or displays a result value, it only does whatever the statement says"
   ]
  },
  {
   "cell_type": "raw",
   "metadata": {},
   "source": [
    "6. After running the following code, what does the variable bacon contain?\n",
    "bacon = 22\n",
    "bacon + 1\n",
    "Ans : 22"
   ]
  },
  {
   "cell_type": "raw",
   "metadata": {},
   "source": [
    "7. What should the values of the following two terms be?\n",
    "'spam' + 'spamspam'\n",
    "'spam' * 3\n",
    "Ans:'spamspamspam'"
   ]
  },
  {
   "cell_type": "raw",
   "metadata": {},
   "source": [
    "8. Why is eggs a valid variable name while 100 is invalid?\n",
    "Ans : A variable name cann't start with number."
   ]
  },
  {
   "cell_type": "raw",
   "metadata": {},
   "source": [
    "9. What three functions can be used to get the integer, floating-point number, or string version of a value?\n",
    "Ans: int() , float() , and str( ) "
   ]
  },
  {
   "cell_type": "raw",
   "metadata": {},
   "source": [
    "10. Why does this expression cause an error? How can you fix it?\n",
    "'I have eaten ' + 99 + ' burritos.'\n",
    "\n",
    "Ans: we can concat string only.\n",
    "    'I have eaten ' + '99' + ' burritos.'"
   ]
  },
  {
   "cell_type": "code",
   "execution_count": null,
   "metadata": {},
   "outputs": [],
   "source": []
  }
 ],
 "metadata": {
  "kernelspec": {
   "display_name": "Python 3",
   "language": "python",
   "name": "python3"
  },
  "language_info": {
   "codemirror_mode": {
    "name": "ipython",
    "version": 3
   },
   "file_extension": ".py",
   "mimetype": "text/x-python",
   "name": "python",
   "nbconvert_exporter": "python",
   "pygments_lexer": "ipython3",
   "version": "3.7.6"
  }
 },
 "nbformat": 4,
 "nbformat_minor": 4
}
